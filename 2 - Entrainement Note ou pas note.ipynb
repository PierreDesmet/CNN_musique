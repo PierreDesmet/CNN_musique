{
 "cells": [
  {
   "cell_type": "markdown",
   "metadata": {},
   "source": [
    "# Note ou pas note ? \n",
    "...telle est la question.\n",
    "\n",
    "À partir des images de l'échantillon d'apprentissage (constituées dans le notebook 1), on veut prédire la présence (1) ou absence (0) d'une note de musique dans chaque image. \n",
    "\n",
    "Il s'agit donc d'un problème de classification binaire. Celui-ci est suffisament simple pour nous permettre de ne pas faire de *transfer learning* et entraîner un modèle *from scratch*. "
   ]
  },
  {
   "cell_type": "code",
   "execution_count": 1,
   "metadata": {},
   "outputs": [
    {
     "name": "stderr",
     "output_type": "stream",
     "text": [
      "/anaconda3/lib/python3.6/site-packages/h5py/__init__.py:36: FutureWarning: Conversion of the second argument of issubdtype from `float` to `np.floating` is deprecated. In future, it will be treated as `np.float64 == np.dtype(float).type`.\n",
      "  from ._conv import register_converters as _register_converters\n",
      "Using TensorFlow backend.\n"
     ]
    }
   ],
   "source": [
    "import sys, os, re\n",
    "import glob\n",
    "import numpy as np ; np.random.seed(123)\n",
    "import matplotlib.pyplot as plt\n",
    "plt.style.use('ggplot')\n",
    "%matplotlib inline\n",
    "\n",
    "from keras.models import Sequential, load_model\n",
    "from keras.layers import Conv2D, MaxPooling2D, Dropout, BatchNormalization, Flatten, Dense, Activation\n",
    "from keras.optimizers import Adam\n",
    "from keras.constraints import maxnorm\n",
    "from keras.callbacks import EarlyStopping, ModelCheckpoint\n",
    "from keras.preprocessing.image import ImageDataGenerator\n",
    "\n",
    "from sklearn.metrics import roc_auc_score, auc\n",
    "from preprocessing import *\n",
    "LARG, LONG = 14, 72"
   ]
  },
  {
   "cell_type": "markdown",
   "metadata": {},
   "source": [
    "## Définition de l'architecture du CNN"
   ]
  },
  {
   "cell_type": "code",
   "execution_count": 2,
   "metadata": {},
   "outputs": [
    {
     "name": "stdout",
     "output_type": "stream",
     "text": [
      "_________________________________________________________________\n",
      "Layer (type)                 Output Shape              Param #   \n",
      "=================================================================\n",
      "conv2d_1 (Conv2D)            (None, 70, 12, 5)         50        \n",
      "_________________________________________________________________\n",
      "max_pooling2d_1 (MaxPooling2 (None, 35, 6, 5)          0         \n",
      "_________________________________________________________________\n",
      "dropout_1 (Dropout)          (None, 35, 6, 5)          0         \n",
      "_________________________________________________________________\n",
      "conv2d_2 (Conv2D)            (None, 33, 4, 5)          230       \n",
      "_________________________________________________________________\n",
      "max_pooling2d_2 (MaxPooling2 (None, 16, 2, 5)          0         \n",
      "_________________________________________________________________\n",
      "dropout_2 (Dropout)          (None, 16, 2, 5)          0         \n",
      "_________________________________________________________________\n",
      "flatten_1 (Flatten)          (None, 160)               0         \n",
      "_________________________________________________________________\n",
      "dense_1 (Dense)              (None, 160)               25760     \n",
      "_________________________________________________________________\n",
      "activation_1 (Activation)    (None, 160)               0         \n",
      "_________________________________________________________________\n",
      "dropout_3 (Dropout)          (None, 160)               0         \n",
      "_________________________________________________________________\n",
      "dense_2 (Dense)              (None, 112)               18032     \n",
      "_________________________________________________________________\n",
      "activation_2 (Activation)    (None, 112)               0         \n",
      "_________________________________________________________________\n",
      "dropout_4 (Dropout)          (None, 112)               0         \n",
      "_________________________________________________________________\n",
      "dense_3 (Dense)              (None, 1)                 113       \n",
      "_________________________________________________________________\n",
      "activation_3 (Activation)    (None, 1)                 0         \n",
      "=================================================================\n",
      "Total params: 44,185\n",
      "Trainable params: 44,185\n",
      "Non-trainable params: 0\n",
      "_________________________________________________________________\n"
     ]
    }
   ],
   "source": [
    "def instancie_modèle(verbose=False, lr=0.001, dp=0):\n",
    "    # Définition des couches\n",
    "    conv1 = Conv2D(filters=5, kernel_size=(3, 3), activation='relu', input_shape=(LONG, LARG, 1), strides=1, padding='valid')\n",
    "    pool1 = MaxPooling2D(pool_size=(2, 2), strides=(2, 2))\n",
    "\n",
    "    conv2 = Conv2D(filters=5, kernel_size=(3, 3), activation='relu', strides=1, padding='valid')\n",
    "    pool2 = MaxPooling2D(pool_size=(2, 2), strides=(2, 2))\n",
    "\n",
    "    dense1 = Dense(160)\n",
    "    dense2 = Dense(112)\n",
    "    dense3 = Dense(1)\n",
    "\n",
    "    # Ajout des couches au modèle\n",
    "    model = Sequential()\n",
    "    \n",
    "    # Conv-1\n",
    "    model.add(conv1)\n",
    "    model.add(pool1)\n",
    "    model.add(Dropout(dp))\n",
    "    \n",
    "    # Conv-2\n",
    "    model.add(conv2)\n",
    "    model.add(pool2)\n",
    "    model.add(Dropout(dp))\n",
    "    \n",
    "    # FC-1\n",
    "    model.add(Flatten())\n",
    "    model.add(dense1)\n",
    "    model.add(Activation('relu'))\n",
    "    model.add(Dropout(dp))\n",
    "    \n",
    "    # FC-2\n",
    "    model.add(dense2)\n",
    "    model.add(Activation('relu'))\n",
    "    model.add(Dropout(dp))\n",
    "    \n",
    "    # Output : Proba(\"l'image contient une note\")\n",
    "    model.add(dense3)\n",
    "    model.add(Activation('sigmoid'))\n",
    "    \n",
    "    optimiseur = Adam(lr=lr, beta_1=0.9, beta_2=0.999, epsilon=1e-08, decay=0.0)\n",
    "    \n",
    "    def auc(y_true, y_pred):\n",
    "        fpr, tpr, thresholds = roc_curve(y_true, y_pred)\n",
    "        return K.auc(fpr, tpr)\n",
    "    \n",
    "    model.compile(loss='binary_crossentropy', optimizer=optimiseur, metrics=['accuracy'])\n",
    "    if verbose : model.summary()\n",
    "    return model\n",
    "model = instancie_modèle(verbose=True)"
   ]
  },
  {
   "cell_type": "markdown",
   "metadata": {},
   "source": [
    "## Constitution de l'échantillon d'entraînement\n",
    "On en profite pour augmenter notre dataset en effectuant des rotations aux notes de musique.\n",
    "\n",
    "**Attention** : en \"flipant\" les images, on change également le label de la note :\n",
    "<img width=\"500px\" src=\"https://i.imgur.com/UNFZ15v.png\"/>\n",
    "\n",
    "1. Le flip horizontal donne vie à des notes qui n'existent pas : il ne convient donc pas.\n",
    "2. La rotation de 180° appliquée sur un \"Si\" ne nécessite aucun ajustement.\n",
    "3. La rotation de 180° appliquée sur une autre note qu'un \"Si\" nécessite de relabeliser l'image. C'est une grosse opportunité pour collecter des notes \"rares\" qu'il aurait été compliqué de recueillir autrement ! \n",
    "\n",
    "Pour une image symétrique (par exemple sans note de musique), le flip va créer un doublon."
   ]
  },
  {
   "cell_type": "code",
   "execution_count": 3,
   "metadata": {},
   "outputs": [
    {
     "data": {
      "text/plain": [
       "{'La': 'Do_aigu',\n",
       " 'Do': 'La_aigu',\n",
       " 'Mi': 'Fa_aigu',\n",
       " 'Mi_aigu': 'Fa',\n",
       " 'Sol': 'Re_aigu',\n",
       " 'Sol_aigu': 'Re',\n",
       " 'Sol_aigu_stretched': 'Re_stretched',\n",
       " 'Do_aigu_stretched': 'La_stretched',\n",
       " 'Do_aigu': 'La',\n",
       " 'La_aigu': 'Do',\n",
       " 'Fa_aigu': 'Mi',\n",
       " 'Fa': 'Mi_aigu',\n",
       " 'Re_aigu': 'Sol',\n",
       " 'Re': 'Sol_aigu',\n",
       " 'Re_stretched': 'Sol_aigu_stretched',\n",
       " 'La_stretched': 'Do_aigu_stretched'}"
      ]
     },
     "execution_count": 3,
     "metadata": {},
     "output_type": "execute_result"
    }
   ],
   "source": [
    "## Re-labelisation du dataset miroiré : \n",
    "switch_labels = {'La':'Do_aigu', 'Do':'La_aigu',\n",
    "                 'Mi':'Fa_aigu', 'Mi_aigu':'Fa',\n",
    "                 'Sol':'Re_aigu', 'Sol_aigu':'Re',\n",
    "                 'Sol_aigu_stretched':'Re_stretched',\n",
    "                 'Do_aigu_stretched':'La_stretched'}\n",
    "switch_labels.update({v:k for k,v in switch_labels.items()}) # ou double-reverse le dictionnaire\n",
    "switch_labels"
   ]
  },
  {
   "cell_type": "code",
   "execution_count": 4,
   "metadata": {},
   "outputs": [],
   "source": [
    "files = tri_images('Datasets/Train/*.png')\n",
    "data = []\n",
    "generator = ImageDataGenerator()\n",
    "for file in files :\n",
    "    im = plt.imread(file)[:, :, 0]\n",
    "    data.append(im.reshape(im.shape[0], im.shape[1], 1))\n",
    "    \n",
    "    # Traitements \"miroirs\" :\n",
    "    image_mirored = generator.apply_transform(im, {'flip_horizontal':True, 'flip_vertical':True}).reshape(LONG, LARG)\n",
    "    num_image = re.findall(r\"[0-9]+\", file)[0]\n",
    "    file = file.replace(num_image+'_', str(int(num_image)+ len(files)) + '_')\n",
    "    for k,v in switch_labels.items():\n",
    "        if k + '.png' in file :\n",
    "            file = file.replace(k+'.png', v+'.png')\n",
    "            break\n",
    "    data.append(image_mirored)\n",
    "    plt.imsave('Datasets/Train_mirored/'+os.path.basename(file), image_mirored)\n",
    "    \n",
    "# Les cibles :\n",
    "files_mirored = tri_images('Datasets/Train_mirored/*.png')\n",
    "all_train_files = []\n",
    "for i,j in zip(files, files_mirored):\n",
    "    all_train_files.extend([i, j])\n",
    "y_true = get_label_from_files(all_train_files, mode='binary')"
   ]
  },
  {
   "cell_type": "markdown",
   "metadata": {},
   "source": [
    "On regroupe toutes les images au sein d'un unique numpy array :"
   ]
  },
  {
   "cell_type": "code",
   "execution_count": 5,
   "metadata": {},
   "outputs": [
    {
     "data": {
      "text/plain": [
       "(3130, 72, 14, 1)"
      ]
     },
     "execution_count": 5,
     "metadata": {},
     "output_type": "execute_result"
    }
   ],
   "source": [
    "data = [np.asarray(data[i]).reshape(1, LONG, LARG, 1) for i in range(len(data))]\n",
    "data = np.concatenate(data, axis=0)\n",
    "data.shape"
   ]
  },
  {
   "cell_type": "markdown",
   "metadata": {},
   "source": [
    "Quelques images en double, mais celle-ci correspondent soit à des hasards, soit à des couples image+miroir lorsque l'image initial était symétrique : "
   ]
  },
  {
   "cell_type": "code",
   "execution_count": 13,
   "metadata": {
    "scrolled": true
   },
   "outputs": [
    {
     "data": {
      "text/html": [
       "<div>\n",
       "<style scoped>\n",
       "    .dataframe tbody tr th:only-of-type {\n",
       "        vertical-align: middle;\n",
       "    }\n",
       "\n",
       "    .dataframe tbody tr th {\n",
       "        vertical-align: top;\n",
       "    }\n",
       "\n",
       "    .dataframe thead th {\n",
       "        text-align: right;\n",
       "    }\n",
       "</style>\n",
       "<table border=\"1\" class=\"dataframe\">\n",
       "  <thead>\n",
       "    <tr style=\"text-align: right;\">\n",
       "      <th></th>\n",
       "      <th>Col_0</th>\n",
       "      <th>Col_1</th>\n",
       "      <th>Col_2</th>\n",
       "      <th>Col_3</th>\n",
       "      <th>Col_4</th>\n",
       "      <th>Col_5</th>\n",
       "      <th>Col_6</th>\n",
       "      <th>Col_7</th>\n",
       "      <th>Col_8</th>\n",
       "      <th>Col_9</th>\n",
       "      <th>...</th>\n",
       "      <th>Col_998</th>\n",
       "      <th>Col_999</th>\n",
       "      <th>Col_1000</th>\n",
       "      <th>Col_1001</th>\n",
       "      <th>Col_1002</th>\n",
       "      <th>Col_1003</th>\n",
       "      <th>Col_1004</th>\n",
       "      <th>Col_1005</th>\n",
       "      <th>Col_1006</th>\n",
       "      <th>Col_1007</th>\n",
       "    </tr>\n",
       "  </thead>\n",
       "  <tbody>\n",
       "    <tr>\n",
       "      <th>2648</th>\n",
       "      <td>0.266667</td>\n",
       "      <td>0.266667</td>\n",
       "      <td>0.266667</td>\n",
       "      <td>0.266667</td>\n",
       "      <td>0.266667</td>\n",
       "      <td>0.266667</td>\n",
       "      <td>0.266667</td>\n",
       "      <td>0.266667</td>\n",
       "      <td>0.266667</td>\n",
       "      <td>0.266667</td>\n",
       "      <td>...</td>\n",
       "      <td>0.266667</td>\n",
       "      <td>0.266667</td>\n",
       "      <td>0.266667</td>\n",
       "      <td>0.266667</td>\n",
       "      <td>0.266667</td>\n",
       "      <td>0.266667</td>\n",
       "      <td>0.266667</td>\n",
       "      <td>0.266667</td>\n",
       "      <td>0.266667</td>\n",
       "      <td>0.266667</td>\n",
       "    </tr>\n",
       "    <tr>\n",
       "      <th>2649</th>\n",
       "      <td>0.266667</td>\n",
       "      <td>0.266667</td>\n",
       "      <td>0.266667</td>\n",
       "      <td>0.266667</td>\n",
       "      <td>0.266667</td>\n",
       "      <td>0.266667</td>\n",
       "      <td>0.266667</td>\n",
       "      <td>0.266667</td>\n",
       "      <td>0.266667</td>\n",
       "      <td>0.266667</td>\n",
       "      <td>...</td>\n",
       "      <td>0.266667</td>\n",
       "      <td>0.266667</td>\n",
       "      <td>0.266667</td>\n",
       "      <td>0.266667</td>\n",
       "      <td>0.266667</td>\n",
       "      <td>0.266667</td>\n",
       "      <td>0.266667</td>\n",
       "      <td>0.266667</td>\n",
       "      <td>0.266667</td>\n",
       "      <td>0.266667</td>\n",
       "    </tr>\n",
       "    <tr>\n",
       "      <th>2950</th>\n",
       "      <td>0.266667</td>\n",
       "      <td>0.266667</td>\n",
       "      <td>0.266667</td>\n",
       "      <td>0.266667</td>\n",
       "      <td>0.780392</td>\n",
       "      <td>0.780392</td>\n",
       "      <td>0.780392</td>\n",
       "      <td>0.780392</td>\n",
       "      <td>0.780392</td>\n",
       "      <td>0.780392</td>\n",
       "      <td>...</td>\n",
       "      <td>0.780392</td>\n",
       "      <td>0.780392</td>\n",
       "      <td>0.780392</td>\n",
       "      <td>0.780392</td>\n",
       "      <td>0.780392</td>\n",
       "      <td>0.780392</td>\n",
       "      <td>0.780392</td>\n",
       "      <td>0.780392</td>\n",
       "      <td>0.780392</td>\n",
       "      <td>0.780392</td>\n",
       "    </tr>\n",
       "    <tr>\n",
       "      <th>2966</th>\n",
       "      <td>0.266667</td>\n",
       "      <td>0.266667</td>\n",
       "      <td>0.266667</td>\n",
       "      <td>0.266667</td>\n",
       "      <td>0.780392</td>\n",
       "      <td>0.780392</td>\n",
       "      <td>0.780392</td>\n",
       "      <td>0.780392</td>\n",
       "      <td>0.780392</td>\n",
       "      <td>0.780392</td>\n",
       "      <td>...</td>\n",
       "      <td>0.780392</td>\n",
       "      <td>0.780392</td>\n",
       "      <td>0.780392</td>\n",
       "      <td>0.780392</td>\n",
       "      <td>0.780392</td>\n",
       "      <td>0.780392</td>\n",
       "      <td>0.780392</td>\n",
       "      <td>0.780392</td>\n",
       "      <td>0.780392</td>\n",
       "      <td>0.780392</td>\n",
       "    </tr>\n",
       "    <tr>\n",
       "      <th>723</th>\n",
       "      <td>0.266667</td>\n",
       "      <td>0.266667</td>\n",
       "      <td>0.266667</td>\n",
       "      <td>0.266667</td>\n",
       "      <td>0.992157</td>\n",
       "      <td>0.992157</td>\n",
       "      <td>0.992157</td>\n",
       "      <td>0.992157</td>\n",
       "      <td>0.992157</td>\n",
       "      <td>0.992157</td>\n",
       "      <td>...</td>\n",
       "      <td>0.992157</td>\n",
       "      <td>0.992157</td>\n",
       "      <td>0.992157</td>\n",
       "      <td>0.992157</td>\n",
       "      <td>0.992157</td>\n",
       "      <td>0.992157</td>\n",
       "      <td>0.992157</td>\n",
       "      <td>0.992157</td>\n",
       "      <td>0.992157</td>\n",
       "      <td>0.992157</td>\n",
       "    </tr>\n",
       "  </tbody>\n",
       "</table>\n",
       "<p>5 rows × 1008 columns</p>\n",
       "</div>"
      ],
      "text/plain": [
       "         Col_0     Col_1     Col_2     Col_3     Col_4     Col_5     Col_6  \\\n",
       "2648  0.266667  0.266667  0.266667  0.266667  0.266667  0.266667  0.266667   \n",
       "2649  0.266667  0.266667  0.266667  0.266667  0.266667  0.266667  0.266667   \n",
       "2950  0.266667  0.266667  0.266667  0.266667  0.780392  0.780392  0.780392   \n",
       "2966  0.266667  0.266667  0.266667  0.266667  0.780392  0.780392  0.780392   \n",
       "723   0.266667  0.266667  0.266667  0.266667  0.992157  0.992157  0.992157   \n",
       "\n",
       "         Col_7     Col_8     Col_9    ...      Col_998   Col_999  Col_1000  \\\n",
       "2648  0.266667  0.266667  0.266667    ...     0.266667  0.266667  0.266667   \n",
       "2649  0.266667  0.266667  0.266667    ...     0.266667  0.266667  0.266667   \n",
       "2950  0.780392  0.780392  0.780392    ...     0.780392  0.780392  0.780392   \n",
       "2966  0.780392  0.780392  0.780392    ...     0.780392  0.780392  0.780392   \n",
       "723   0.992157  0.992157  0.992157    ...     0.992157  0.992157  0.992157   \n",
       "\n",
       "      Col_1001  Col_1002  Col_1003  Col_1004  Col_1005  Col_1006  Col_1007  \n",
       "2648  0.266667  0.266667  0.266667  0.266667  0.266667  0.266667  0.266667  \n",
       "2649  0.266667  0.266667  0.266667  0.266667  0.266667  0.266667  0.266667  \n",
       "2950  0.780392  0.780392  0.780392  0.780392  0.780392  0.780392  0.780392  \n",
       "2966  0.780392  0.780392  0.780392  0.780392  0.780392  0.780392  0.780392  \n",
       "723   0.992157  0.992157  0.992157  0.992157  0.992157  0.992157  0.992157  \n",
       "\n",
       "[5 rows x 1008 columns]"
      ]
     },
     "execution_count": 13,
     "metadata": {},
     "output_type": "execute_result"
    }
   ],
   "source": [
    "a = pd.DataFrame(data.reshape((data.shape[0], LARG*LONG)))\n",
    "a.columns = ['Col_'+str(c) for c in a]\n",
    "a[a.duplicated(keep=False)].sort_values(a.columns.tolist()).head()"
   ]
  },
  {
   "cell_type": "markdown",
   "metadata": {},
   "source": [
    "On split en échantillon d'entraînement et de validation."
   ]
  },
  {
   "cell_type": "code",
   "execution_count": 14,
   "metadata": {},
   "outputs": [],
   "source": [
    "indices = np.random.permutation(data.shape[0])\n",
    "valid_size = data.shape[0] // 3  # un tiers du dataset va aller dans le test\n",
    "valid_idx, training_idx = indices[:valid_size], indices[valid_size:]\n",
    "X_train, X_valid = data[training_idx,:,:,:], data[valid_idx,:,:,:]\n",
    "y_train, y_valid = y_true[training_idx], y_true[valid_idx] "
   ]
  },
  {
   "cell_type": "code",
   "execution_count": 15,
   "metadata": {},
   "outputs": [
    {
     "name": "stdout",
     "output_type": "stream",
     "text": [
      "Nombre d'image dans le X_train : 2087\n",
      "Nombre d'image dans le X_valid : 1043\n",
      "41.69% des images contiennent des notes de musiques\n"
     ]
    }
   ],
   "source": [
    "print(\"Nombre d'image dans le X_train :\", X_train.shape[0])\n",
    "print(\"Nombre d'image dans le X_valid :\", X_valid.shape[0])\n",
    "print(\"{:2.2%} des images contiennent des notes de musiques\".format(sum(y_train) / len(y_train)))"
   ]
  },
  {
   "cell_type": "markdown",
   "metadata": {},
   "source": [
    "## Entraînement du modèle"
   ]
  },
  {
   "cell_type": "markdown",
   "metadata": {},
   "source": [
    "On commence par évaluer le modèle en affichant les courbes d'apprentissage. Cela va permettre de voir s'il est utile de collecter davantage de données d'entraînement, ou si la priorité peut être mise ailleurs. "
   ]
  },
  {
   "cell_type": "code",
   "execution_count": 158,
   "metadata": {
    "scrolled": true
   },
   "outputs": [
    {
     "name": "stdout",
     "output_type": "stream",
     "text": [
      "Fitting model with 150 images...\n",
      "Fitting model with 365 images...\n",
      "Fitting model with 580 images...\n",
      "Fitting model with 795 images...\n",
      "Fitting model with 1010 images...\n",
      "Fitting model with 1226 images...\n",
      "Fitting model with 1441 images...\n",
      "Fitting model with 1656 images...\n",
      "Fitting model with 1871 images...\n",
      "Fitting model with 2087 images...\n",
      "CPU times: user 4min, sys: 18.7 s, total: 4min 19s\n",
      "Wall time: 2min 5s\n"
     ]
    }
   ],
   "source": [
    "%%time\n",
    "# Evaluation en mode learning curve : would it help to add more data ? \n",
    "es = EarlyStopping(monitor='val_loss', min_delta=0, patience=10, verbose=0, mode='auto')\n",
    "#msave = ModelCheckpoint('model_weights.txt', save_best_only=True)\n",
    "\n",
    "x, y = [], []\n",
    "for i in np.linspace(150, len(X_train), 10, dtype=int):\n",
    "    print(f'Fitting model with {i} images...')\n",
    "    model = instancie_modèle()\n",
    "    model.fit(X_train[:i], y_train[:i], \n",
    "              batch_size=32, epochs=50,\n",
    "              verbose=0, validation_data=(X_valid, y_valid),\n",
    "              callbacks=[es, msave])\n",
    "    x.append(i) ; y.append(max(model.history.history['val_acc']))"
   ]
  },
  {
   "cell_type": "markdown",
   "metadata": {},
   "source": [
    "On peut diagnostiquer les améliorations possibles au modèle à l'aide d'indicateurs visuels bien connus ;"
   ]
  },
  {
   "cell_type": "code",
   "execution_count": 166,
   "metadata": {
    "scrolled": true
   },
   "outputs": [
    {
     "data": {
      "image/png": "[encoded data removed]",
      "text/plain": [
       "<Figure size 1080x288 with 3 Axes>"
      ]
     },
     "metadata": {},
     "output_type": "display_data"
    }
   ],
   "source": [
    "fig = plt.figure(figsize=(15,4))\n",
    "fig.add_subplot(1,3,1)\n",
    "plt.plot(model.history.history['val_acc'], label='validation accuracy')\n",
    "plt.plot(model.history.history['acc'], label='train accuracy')\n",
    "plt.title('Do I overfit ?') ; plt.legend(); plt.ylim(0.6, 1.01)\n",
    "plt.xlabel(\"Epoch\"); plt.ylabel(\"Accuracy\")\n",
    "\n",
    "fig.add_subplot(1,3,2)\n",
    "plt.title(\"Learning curve CNN\")\n",
    "plt.xlabel(\"Nombre d'observations\") ; plt.ylabel(\"Validation accuracy\")\n",
    "plt.plot(x,y); plt.ylim(0.75, 1.01)\n",
    "\n",
    "fig.add_subplot(1,3,3)\n",
    "plt.plot(model.history.history['val_loss'], label='test loss')\n",
    "plt.plot(model.history.history['loss'], label='train loss')\n",
    "plt.title('Do I overfit ?') ; plt.legend(); plt.ylim(0, 0.6)\n",
    "plt.xlabel(\"Epoch\") ; plt.ylabel(\"Binary crossentropy\");"
   ]
  },
  {
   "cell_type": "markdown",
   "metadata": {},
   "source": [
    "Il semblerait que le nombre d'images à disposition soit suffisant ! On peut alors entraîner le modèle sur toutes les données d'entraînement : "
   ]
  },
  {
   "cell_type": "code",
   "execution_count": 167,
   "metadata": {
    "scrolled": true
   },
   "outputs": [
    {
     "name": "stdout",
     "output_type": "stream",
     "text": [
      "Train on 3130 samples, validate on 1043 samples\n",
      "Epoch 1/40\n",
      "3130/3130 [==============================] - 2s 692us/step - loss: 0.5927 - acc: 0.6812 - val_loss: 0.5228 - val_acc: 0.7478\n",
      "Epoch 2/40\n",
      "3130/3130 [==============================] - 1s 240us/step - loss: 0.5023 - acc: 0.7607 - val_loss: 0.4432 - val_acc: 0.8025\n",
      "Epoch 3/40\n",
      "3130/3130 [==============================] - 1s 239us/step - loss: 0.4535 - acc: 0.7946 - val_loss: 0.4170 - val_acc: 0.8418\n",
      "Epoch 4/40\n",
      "3130/3130 [==============================] - 1s 240us/step - loss: 0.3984 - acc: 0.8128 - val_loss: 0.3270 - val_acc: 0.8533\n",
      "Epoch 5/40\n",
      "3130/3130 [==============================] - 1s 240us/step - loss: 0.3629 - acc: 0.8377 - val_loss: 0.3103 - val_acc: 0.8629\n",
      "Epoch 6/40\n",
      "3130/3130 [==============================] - 1s 241us/step - loss: 0.3357 - acc: 0.8486 - val_loss: 0.2593 - val_acc: 0.8869\n",
      "Epoch 7/40\n",
      "3130/3130 [==============================] - 1s 244us/step - loss: 0.2883 - acc: 0.8716 - val_loss: 0.2750 - val_acc: 0.8945\n",
      "Epoch 8/40\n",
      "3130/3130 [==============================] - 1s 263us/step - loss: 0.2922 - acc: 0.8770 - val_loss: 0.2168 - val_acc: 0.9128\n",
      "Epoch 9/40\n",
      "3130/3130 [==============================] - 1s 243us/step - loss: 0.2776 - acc: 0.8818 - val_loss: 0.2674 - val_acc: 0.8993\n",
      "Epoch 10/40\n",
      "3130/3130 [==============================] - 1s 260us/step - loss: 0.2717 - acc: 0.8904 - val_loss: 0.2032 - val_acc: 0.9358\n",
      "Epoch 11/40\n",
      "3130/3130 [==============================] - 1s 240us/step - loss: 0.2414 - acc: 0.9003 - val_loss: 0.1562 - val_acc: 0.9406\n",
      "Epoch 12/40\n",
      "3130/3130 [==============================] - 1s 244us/step - loss: 0.2352 - acc: 0.9000 - val_loss: 0.1727 - val_acc: 0.9425\n",
      "Epoch 13/40\n",
      "3130/3130 [==============================] - 1s 241us/step - loss: 0.2202 - acc: 0.9131 - val_loss: 0.1692 - val_acc: 0.9271\n",
      "Epoch 14/40\n",
      "3130/3130 [==============================] - 1s 240us/step - loss: 0.2196 - acc: 0.9128 - val_loss: 0.1403 - val_acc: 0.9511\n",
      "Epoch 15/40\n",
      "3130/3130 [==============================] - 1s 241us/step - loss: 0.2023 - acc: 0.9131 - val_loss: 0.1378 - val_acc: 0.9492\n",
      "Epoch 16/40\n",
      "3130/3130 [==============================] - 1s 243us/step - loss: 0.1987 - acc: 0.9252 - val_loss: 0.1209 - val_acc: 0.9473\n",
      "Epoch 17/40\n",
      "3130/3130 [==============================] - 1s 241us/step - loss: 0.2080 - acc: 0.9150 - val_loss: 0.1571 - val_acc: 0.9348\n",
      "Epoch 18/40\n",
      "3130/3130 [==============================] - 1s 243us/step - loss: 0.2012 - acc: 0.9252 - val_loss: 0.1425 - val_acc: 0.9530\n",
      "Epoch 19/40\n",
      "3130/3130 [==============================] - 1s 240us/step - loss: 0.1788 - acc: 0.9294 - val_loss: 0.1232 - val_acc: 0.9607\n",
      "Epoch 20/40\n",
      "3130/3130 [==============================] - 1s 242us/step - loss: 0.1763 - acc: 0.9335 - val_loss: 0.1176 - val_acc: 0.9540\n",
      "Epoch 21/40\n",
      "3130/3130 [==============================] - 1s 241us/step - loss: 0.1728 - acc: 0.9304 - val_loss: 0.1303 - val_acc: 0.9588\n",
      "Epoch 22/40\n",
      "3130/3130 [==============================] - 1s 242us/step - loss: 0.1817 - acc: 0.9319 - val_loss: 0.1089 - val_acc: 0.9616\n",
      "Epoch 23/40\n",
      "3130/3130 [==============================] - 1s 242us/step - loss: 0.1729 - acc: 0.9316 - val_loss: 0.0953 - val_acc: 0.9636\n",
      "Epoch 24/40\n",
      "3130/3130 [==============================] - 1s 241us/step - loss: 0.1718 - acc: 0.9364 - val_loss: 0.1056 - val_acc: 0.9645\n",
      "Epoch 25/40\n",
      "3130/3130 [==============================] - 1s 294us/step - loss: 0.1752 - acc: 0.9310 - val_loss: 0.1249 - val_acc: 0.9645\n",
      "Epoch 26/40\n",
      "3130/3130 [==============================] - 1s 294us/step - loss: 0.1578 - acc: 0.9403 - val_loss: 0.1026 - val_acc: 0.9607\n",
      "Epoch 27/40\n",
      "3130/3130 [==============================] - 1s 278us/step - loss: 0.1660 - acc: 0.9367 - val_loss: 0.0908 - val_acc: 0.9674\n",
      "Epoch 28/40\n",
      "3130/3130 [==============================] - 1s 286us/step - loss: 0.1553 - acc: 0.9390 - val_loss: 0.0914 - val_acc: 0.9616\n",
      "Epoch 29/40\n",
      "3130/3130 [==============================] - 1s 250us/step - loss: 0.1536 - acc: 0.9374 - val_loss: 0.1094 - val_acc: 0.9578\n",
      "Epoch 30/40\n",
      "3130/3130 [==============================] - 1s 242us/step - loss: 0.1645 - acc: 0.9390 - val_loss: 0.0976 - val_acc: 0.9645\n",
      "Epoch 31/40\n",
      "3130/3130 [==============================] - 1s 241us/step - loss: 0.1603 - acc: 0.9403 - val_loss: 0.0769 - val_acc: 0.9712\n",
      "Epoch 32/40\n",
      "3130/3130 [==============================] - 1s 242us/step - loss: 0.1404 - acc: 0.9431 - val_loss: 0.0757 - val_acc: 0.9684\n",
      "Epoch 33/40\n",
      "3130/3130 [==============================] - 1s 239us/step - loss: 0.1580 - acc: 0.9367 - val_loss: 0.0819 - val_acc: 0.9722\n",
      "Epoch 34/40\n",
      "3130/3130 [==============================] - 1s 242us/step - loss: 0.1482 - acc: 0.9380 - val_loss: 0.0647 - val_acc: 0.9751\n",
      "Epoch 35/40\n",
      "3130/3130 [==============================] - 1s 240us/step - loss: 0.1557 - acc: 0.9447 - val_loss: 0.0916 - val_acc: 0.9712\n",
      "Epoch 36/40\n",
      "3130/3130 [==============================] - 1s 243us/step - loss: 0.1507 - acc: 0.9450 - val_loss: 0.0709 - val_acc: 0.9732\n",
      "Epoch 37/40\n",
      "3130/3130 [==============================] - 1s 241us/step - loss: 0.1490 - acc: 0.9444 - val_loss: 0.0753 - val_acc: 0.9722\n",
      "Epoch 38/40\n",
      "3130/3130 [==============================] - 1s 242us/step - loss: 0.1442 - acc: 0.9479 - val_loss: 0.0652 - val_acc: 0.9808\n",
      "Epoch 39/40\n",
      "3130/3130 [==============================] - 1s 243us/step - loss: 0.1390 - acc: 0.9489 - val_loss: 0.0599 - val_acc: 0.9760\n",
      "Epoch 40/40\n",
      "3130/3130 [==============================] - 1s 241us/step - loss: 0.1413 - acc: 0.9403 - val_loss: 0.0603 - val_acc: 0.9712\n"
     ]
    },
    {
     "data": {
      "text/plain": [
       "<keras.callbacks.History at 0x1a3cc0a5c0>"
      ]
     },
     "execution_count": 167,
     "metadata": {},
     "output_type": "execute_result"
    }
   ],
   "source": [
    "es = EarlyStopping(monitor='val_loss', min_delta=0, patience=10, verbose=0, mode='auto')\n",
    "#msave = ModelCheckpoint('model_weights.txt', save_best_only=True)\n",
    "\n",
    "model = instancie_modèle(lr=0.01, dp=0.2)\n",
    "#model.fit(X_train, y_train, \n",
    "model.fit(data, y_true, \n",
    "          batch_size=64, epochs=40,\n",
    "          verbose=1, validation_data=(X_valid, y_valid),\n",
    "          callbacks=[es, msave])"
   ]
  },
  {
   "cell_type": "code",
   "execution_count": 168,
   "metadata": {},
   "outputs": [
    {
     "data": {
      "text/plain": [
       "0.980824544982965"
      ]
     },
     "execution_count": 168,
     "metadata": {},
     "output_type": "execute_result"
    }
   ],
   "source": [
    "max(model.history.history['val_acc'])"
   ]
  },
  {
   "cell_type": "markdown",
   "metadata": {},
   "source": [
    "## Evaluation sur l'échantillon de validation"
   ]
  },
  {
   "cell_type": "code",
   "execution_count": 172,
   "metadata": {},
   "outputs": [],
   "source": [
    "files = tri_images('Datasets/Valid/*.png')\n",
    "y_valid = get_label_from_files(files, mode='binary')\n",
    "valid = []\n",
    "for file in files :\n",
    "    im = plt.imread(file)[:, :, 0]\n",
    "    valid.append(im)"
   ]
  },
  {
   "cell_type": "code",
   "execution_count": 173,
   "metadata": {},
   "outputs": [
    {
     "name": "stdout",
     "output_type": "stream",
     "text": [
      "(636, 72, 14, 1)\n",
      "36.95% des images du Valid contiennent des notes de musiques\n"
     ]
    }
   ],
   "source": [
    "valid = [np.asarray(valid[i]).reshape(1, LONG, LARG, 1) for i in range(len(valid))]\n",
    "valid = np.concatenate(valid, axis=0)\n",
    "print(valid.shape)\n",
    "print(\"{:2.2%} des images du Valid contiennent des notes de musiques\".format(sum(y_valid) / len(valid)))"
   ]
  },
  {
   "cell_type": "code",
   "execution_count": 183,
   "metadata": {},
   "outputs": [
    {
     "name": "stdout",
     "output_type": "stream",
     "text": [
      "636/636 [==============================] - 0s 150us/step\n"
     ]
    },
    {
     "data": {
      "text/plain": [
       "[0.2084916537662722, 0.9339622630263275]"
      ]
     },
     "execution_count": 183,
     "metadata": {},
     "output_type": "execute_result"
    }
   ],
   "source": [
    "prédictions = model.predict_classes(valid)\n",
    "prédictions_proba = model.predict_proba(valid)\n",
    "model.evaluate(valid, y_valid)"
   ]
  },
  {
   "cell_type": "markdown",
   "metadata": {},
   "source": [
    "Investigation : quelles sont les images mal classifiées ? Les isoler permettra de comprendre pourquoi le modèle se trompe. "
   ]
  },
  {
   "cell_type": "code",
   "execution_count": 185,
   "metadata": {
    "scrolled": true
   },
   "outputs": [
    {
     "name": "stdout",
     "output_type": "stream",
     "text": [
      "Image 12 erronée : \tprédit 0 | réalité : 1\n",
      "Image 36 erronée : \tprédit 0 | réalité : 1\n",
      "Image 42 erronée : \tprédit 1 | réalité : 0\n",
      "Image 69 erronée : \tprédit 0 | réalité : 1\n",
      "Image 75 erronée : \tprédit 1 | réalité : 0\n",
      "Image 95 erronée : \tprédit 1 | réalité : 0\n",
      "Image 96 erronée : \tprédit 0 | réalité : 1\n",
      "Image 99 erronée : \tprédit 0 | réalité : 1\n",
      "Image 107 erronée : \tprédit 1 | réalité : 0\n",
      "Image 112 erronée : \tprédit 1 | réalité : 0\n",
      "Image 123 erronée : \tprédit 1 | réalité : 0\n",
      "Image 124 erronée : \tprédit 1 | réalité : 0\n",
      "Image 134 erronée : \tprédit 1 | réalité : 0\n",
      "Image 142 erronée : \tprédit 1 | réalité : 0\n",
      "Image 176 erronée : \tprédit 1 | réalité : 0\n",
      "Image 177 erronée : \tprédit 1 | réalité : 0\n",
      "Image 181 erronée : \tprédit 1 | réalité : 0\n",
      "Image 185 erronée : \tprédit 1 | réalité : 0\n",
      "Image 186 erronée : \tprédit 1 | réalité : 0\n",
      "Image 206 erronée : \tprédit 1 | réalité : 0\n",
      "Image 215 erronée : \tprédit 1 | réalité : 0\n",
      "Image 230 erronée : \tprédit 1 | réalité : 0\n",
      "Image 231 erronée : \tprédit 1 | réalité : 0\n",
      "Image 245 erronée : \tprédit 0 | réalité : 1\n",
      "Image 248 erronée : \tprédit 0 | réalité : 1\n",
      "Image 251 erronée : \tprédit 1 | réalité : 0\n",
      "Image 273 erronée : \tprédit 0 | réalité : 1\n",
      "Image 330 erronée : \tprédit 1 | réalité : 0\n",
      "Image 354 erronée : \tprédit 1 | réalité : 0\n",
      "Image 355 erronée : \tprédit 1 | réalité : 0\n",
      "Image 385 erronée : \tprédit 1 | réalité : 0\n",
      "Image 386 erronée : \tprédit 1 | réalité : 0\n",
      "Image 403 erronée : \tprédit 1 | réalité : 0\n",
      "Image 407 erronée : \tprédit 0 | réalité : 1\n",
      "Image 560 erronée : \tprédit 1 | réalité : 0\n",
      "Image 580 erronée : \tprédit 0 | réalité : 1\n",
      "Image 582 erronée : \tprédit 1 | réalité : 0\n",
      "Image 585 erronée : \tprédit 0 | réalité : 1\n",
      "Image 599 erronée : \tprédit 1 | réalité : 0\n",
      "Image 600 erronée : \tprédit 0 | réalité : 1\n",
      "Image 608 erronée : \tprédit 0 | réalité : 1\n",
      "Image 624 erronée : \tprédit 0 | réalité : 1\n"
     ]
    }
   ],
   "source": [
    "for i,j, idx in zip(y_valid, np.ravel(prédictions), range(len(prédictions))):\n",
    "    if i!=j : \n",
    "        print('Image', idx, 'erronée : \\tprédit', j, '| réalité :', i)"
   ]
  },
  {
   "cell_type": "code",
   "execution_count": 186,
   "metadata": {},
   "outputs": [
    {
     "name": "stdout",
     "output_type": "stream",
     "text": [
      "Accuracy 0.934\n",
      "AUC 0.935\n"
     ]
    },
    {
     "data": {
      "text/plain": [
       "array([[373,  28],\n",
       "       [ 14, 221]])"
      ]
     },
     "execution_count": 186,
     "metadata": {},
     "output_type": "execute_result"
    }
   ],
   "source": [
    "# Matrice de confusion\n",
    "from sklearn.metrics import confusion_matrix, accuracy_score, roc_auc_score\n",
    "cm = confusion_matrix(y_valid, prédictions)\n",
    "print('Accuracy %.3f'%accuracy_score(y_valid, prédictions))\n",
    "print('AUC %.3f'%roc_auc_score(y_valid, prédictions))\n",
    "cm"
   ]
  },
  {
   "cell_type": "code",
   "execution_count": 188,
   "metadata": {},
   "outputs": [
    {
     "data": {
      "image/png": "[encoded data removed]",
      "text/plain": [
       "<Figure size 288x216 with 1 Axes>"
      ]
     },
     "metadata": {},
     "output_type": "display_data"
    }
   ],
   "source": [
    "plot_roc_curve(y_valid, prédictions_proba)"
   ]
  },
  {
   "cell_type": "markdown",
   "metadata": {},
   "source": [
    "On peut plotter aléatoirement des images où le modèle s'est trompé : \n",
    "- celles où il a prédit à tort la présence d'une note sur une image\n",
    "- celles où il a prédit à tort qu'une image ne contenait pas de note\n",
    "\n",
    "On espère que la confiance du CNN en ces prédictions erronnées est faible, c-à-d proche de 0.5. "
   ]
  },
  {
   "cell_type": "code",
   "execution_count": 36,
   "metadata": {},
   "outputs": [
    {
     "data": {
      "image/png": "[encoded data removed]",
      "text/plain": [
       "<Figure size 1080x216 with 6 Axes>"
      ]
     },
     "metadata": {},
     "output_type": "display_data"
    }
   ],
   "source": [
    "display_mistakes(y_valid, prédictions, prédictions_probas, nb_display=6)"
   ]
  },
  {
   "cell_type": "markdown",
   "metadata": {},
   "source": [
    "On enregistre ce modèle entraîné, et notamment : \n",
    "- son architecture,\n",
    "- ses poids\n",
    "- sa configuration (fonction de perte, early stopping, l'optimiseur)"
   ]
  },
  {
   "cell_type": "code",
   "execution_count": 189,
   "metadata": {},
   "outputs": [],
   "source": [
    "model.save('Modeles/model.h5')"
   ]
  }
 ],
 "metadata": {
  "anaconda-cloud": {},
  "kernelspec": {
   "display_name": "Python 3",
   "language": "python",
   "name": "python3"
  },
  "language_info": {
   "codemirror_mode": {
    "name": "ipython",
    "version": 3
   },
   "file_extension": ".py",
   "mimetype": "text/x-python",
   "name": "python",
   "nbconvert_exporter": "python",
   "pygments_lexer": "ipython3",
   "version": "3.6.5"
  }
 },
 "nbformat": 4,
 "nbformat_minor": 2
}
