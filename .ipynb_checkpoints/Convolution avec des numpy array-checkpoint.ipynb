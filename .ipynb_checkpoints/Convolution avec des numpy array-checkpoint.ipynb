{
 "cells": [
  {
   "cell_type": "markdown",
   "metadata": {},
   "source": [
    "# Convolutions avec des numpy array\n",
    "Les fonctions disponibles : \n",
    "- get_size_result\n",
    "- pad_image\n",
    "- convolution\n",
    "- max_pooling\n",
    "- activate (x -> ReLU(x)+biais)\n",
    "- flatten\n",
    "\n",
    "Les filtres ont été initialisés à partir des exemples ci-contres : http://scikit-image.org/docs/dev/api/skimage.filters.html#skimage.filters.scharr_v"
   ]
  },
  {
   "cell_type": "code",
   "execution_count": 1,
   "metadata": {
    "collapsed": true
   },
   "outputs": [],
   "source": [
    "import numpy as np"
   ]
  },
  {
   "cell_type": "markdown",
   "metadata": {},
   "source": [
    "### Données test"
   ]
  },
  {
   "cell_type": "code",
   "execution_count": 2,
   "metadata": {},
   "outputs": [
    {
     "data": {
      "text/plain": [
       "array([[ 2,  3,  7,  4,  6,  2, -9],\n",
       "       [ 6,  6,  9,  8,  7,  4,  3],\n",
       "       [ 3,  4,  8,  3,  8,  9,  7],\n",
       "       [ 7,  8,  3,  6,  6,  3,  4],\n",
       "       [ 4,  2,  1,  8,  3,  4,  6],\n",
       "       [ 3,  2,  4,  1,  9,  8,  3],\n",
       "       [ 0,  1,  3,  9,  2,  1,  4]])"
      ]
     },
     "execution_count": 2,
     "metadata": {},
     "output_type": "execute_result"
    }
   ],
   "source": [
    "image = np.array([[2,3,7,4,6,2,-9],\n",
    "                 [6,6,9,8,7,4,3],\n",
    "                 [3,4,8,3,8,9,7],\n",
    "                 [7,8,3,6,6,3,4],\n",
    "                 [4,2,1,8,3,4,6],\n",
    "                 [3,2,4,1,9,8,3],\n",
    "                 [0,1,3,9,2,1,4]])\n",
    "image\n",
    "#image = np.random.randint(low=-5, high=5, size=7*7).reshape(7,7) # pour en générer aléatoirement"
   ]
  },
  {
   "cell_type": "code",
   "execution_count": 3,
   "metadata": {},
   "outputs": [
    {
     "data": {
      "text/plain": [
       "array([[ 3,  4,  4],\n",
       "       [ 1,  0,  2],\n",
       "       [-1,  0,  3]])"
      ]
     },
     "execution_count": 3,
     "metadata": {},
     "output_type": "execute_result"
    }
   ],
   "source": [
    "filtre = np.array([[3,4,4],[1,0,2],[-1,0,3]])\n",
    "filtre"
   ]
  },
  {
   "cell_type": "markdown",
   "metadata": {},
   "source": [
    "### Fonctions d'activation"
   ]
  },
  {
   "cell_type": "code",
   "execution_count": 107,
   "metadata": {},
   "outputs": [
    {
     "data": {
      "text/plain": [
       "array([[-0.11],\n",
       "       [ 0.09]])"
      ]
     },
     "execution_count": 107,
     "metadata": {},
     "output_type": "execute_result"
    }
   ],
   "source": [
    "def sigmoid(vector, dérivée=False):\n",
    "    if dérivée :\n",
    "        return (vector * (1-vector)).reshape(-1, 1)\n",
    "    return (1 / (1+np.exp(-vector))).reshape(-1, 1)\n",
    "\n",
    "def ReLU(image, dérivée=False):\n",
    "    if dérivée:\n",
    "        return  np.where(image >= 0, 1, 0)\n",
    "    return image * (image > 0)\n",
    "\n",
    "def activate(image, biais):\n",
    "    \"\"\" Retourne ReLU(image) + biais\"\"\"\n",
    "    res = ReLU(image) + biais\n",
    "    return res\n",
    "\n",
    "activate(image, 1)\n",
    "sigmoid(np.array([-0.1, 0.1]), dérivée=True)"
   ]
  },
  {
   "cell_type": "markdown",
   "metadata": {},
   "source": [
    "### Convolution"
   ]
  },
  {
   "cell_type": "code",
   "execution_count": 8,
   "metadata": {},
   "outputs": [
    {
     "data": {
      "text/plain": [
       "(3, 3, 1)"
      ]
     },
     "execution_count": 8,
     "metadata": {},
     "output_type": "execute_result"
    }
   ],
   "source": [
    "def get_size_result(image, filtre, padding=0, stride=1):\n",
    "    Nw, Nh = image.shape[0], image.shape[1]\n",
    "    F = filtre.shape[0]\n",
    "    size_width  = np.floor((Nw-F + 2*padding) / stride + 1)\n",
    "    size_height = np.floor((Nh-F + 2*padding) / stride + 1)\n",
    "    return int(size_width), int(size_height), 1\n",
    "get_size_result(image, filtre, stride=2)"
   ]
  },
  {
   "cell_type": "code",
   "execution_count": 9,
   "metadata": {},
   "outputs": [
    {
     "data": {
      "text/plain": [
       "array([[[  91.],\n",
       "        [ 100.],\n",
       "        [  16.]],\n",
       "\n",
       "       [[  69.],\n",
       "        [  91.],\n",
       "        [ 117.]],\n",
       "\n",
       "       [[  44.],\n",
       "        [  72.],\n",
       "        [  74.]]])"
      ]
     },
     "execution_count": 9,
     "metadata": {},
     "output_type": "execute_result"
    }
   ],
   "source": [
    "def convolution(image, liste_filtres, padding=0, stride=1, bias=[0]):\n",
    "    resultats = []\n",
    "    for filtre in liste_filtres:\n",
    "        resultat = np.zeros(get_size_result(image, filtre, padding, stride)[:2])\n",
    "        f = filtre.shape[0]\n",
    "        for j in np.arange(0, resultat.shape[1], 1):\n",
    "            for i in np.arange(0, resultat.shape[0], 1):\n",
    "                # Récupération de la position du top-left-corner\n",
    "                tlc = (int(i*stride-padding), int(j*stride-padding))\n",
    "                # Récupération de la zone concernée dans l'image\n",
    "                zone = image[tlc[0]:tlc[0]+f, tlc[1]:tlc[1]+f, :]\n",
    "                for channel in range(zone.shape[2]):\n",
    "                    resultat[i,j] += np.sum(zone[:,:,channel] * filtre)\n",
    "        resultats.append(resultat.reshape(resultat.shape[0], resultat.shape[1], 1))\n",
    "    # Activations (ReLU + biais): \n",
    "    resultats = [activate(r, biais=bias[idx]) for idx, r in enumerate(resultats)]\n",
    "    stacked = np.concatenate(resultats, axis=2)\n",
    "    return stacked\n",
    "\n",
    "convolution(image.reshape(7,7,1), [filtre], padding=0, stride=2)"
   ]
  },
  {
   "cell_type": "markdown",
   "metadata": {},
   "source": [
    "### Padding"
   ]
  },
  {
   "cell_type": "code",
   "execution_count": 11,
   "metadata": {},
   "outputs": [
    {
     "data": {
      "text/plain": [
       "array([[ 0.,  0.,  0.,  0.,  0.,  0.,  0.,  0.,  0.],\n",
       "       [ 0.,  2.,  3.,  7.,  4.,  6.,  2., -9.,  0.],\n",
       "       [ 0.,  6.,  6.,  9.,  8.,  7.,  4.,  3.,  0.],\n",
       "       [ 0.,  3.,  4.,  8.,  3.,  8.,  9.,  7.,  0.],\n",
       "       [ 0.,  7.,  8.,  3.,  6.,  6.,  3.,  4.,  0.],\n",
       "       [ 0.,  4.,  2.,  1.,  8.,  3.,  4.,  6.,  0.],\n",
       "       [ 0.,  3.,  2.,  4.,  1.,  9.,  8.,  3.,  0.],\n",
       "       [ 0.,  0.,  1.,  3.,  9.,  2.,  1.,  4.,  0.],\n",
       "       [ 0.,  0.,  0.,  0.,  0.,  0.,  0.,  0.,  0.]])"
      ]
     },
     "execution_count": 11,
     "metadata": {},
     "output_type": "execute_result"
    }
   ],
   "source": [
    "def pad_image(image, padding=1):\n",
    "    resultat = np.zeros((image.shape[0] + 2*padding, image.shape[1] + 2*padding))\n",
    "    resultat[padding:image.shape[0] + padding, padding:image.shape[1]+padding] = image\n",
    "    return resultat\n",
    "pad_image(image, padding=1)"
   ]
  },
  {
   "cell_type": "markdown",
   "metadata": {},
   "source": [
    "### Pooling"
   ]
  },
  {
   "cell_type": "code",
   "execution_count": 12,
   "metadata": {},
   "outputs": [
    {
     "data": {
      "text/plain": [
       "array([[[ 9.],\n",
       "        [ 9.],\n",
       "        [ 5.]],\n",
       "\n",
       "       [[ 9.],\n",
       "        [ 9.],\n",
       "        [ 5.]],\n",
       "\n",
       "       [[ 8.],\n",
       "        [ 6.],\n",
       "        [ 9.]]])"
      ]
     },
     "execution_count": 12,
     "metadata": {},
     "output_type": "execute_result"
    }
   ],
   "source": [
    "def max_pooling(image, filtre_size, padding=0, stride=1):\n",
    "    resultats = []\n",
    "    for channel in range(image.shape[2]):\n",
    "        filtre_sim = np.zeros((filtre_size, filtre_size))\n",
    "        resultat = np.zeros(get_size_result(image, filtre_sim, padding, stride))\n",
    "        for j in np.arange(0, resultat.shape[1], 1):\n",
    "            for i in np.arange(0, resultat.shape[0], 1):\n",
    "                # Récupération de la position du top-left-corner\n",
    "                tlc = (int(i*stride-padding), int(j*stride))\n",
    "                # Récupération de la zone concernée dans l'image\n",
    "                zone = image[tlc[0]:tlc[0]+filtre_size, tlc[1]:tlc[1]+filtre_size, channel]\n",
    "                resultat[i,j] = np.max(zone)\n",
    "        resultats.append(resultat.reshape(resultat.shape[0],resultat.shape[1], 1))\n",
    "    stacked = np.concatenate(resultats, axis=2)\n",
    "    return stacked\n",
    "\n",
    "im = np.array([[1,3,2,1,3], [2,9,1,1,5], [1,3,2,3,2], [8,3,5,1,0], [5,6,1,2,9]])\n",
    "im = im.reshape(5,5,1)\n",
    "max_pooling(im, filtre_size=3, stride=1, padding=0)"
   ]
  },
  {
   "cell_type": "markdown",
   "metadata": {},
   "source": [
    "### Flatten"
   ]
  },
  {
   "cell_type": "code",
   "execution_count": 13,
   "metadata": {},
   "outputs": [
    {
     "data": {
      "text/plain": [
       "(49, 1)"
      ]
     },
     "execution_count": 13,
     "metadata": {},
     "output_type": "execute_result"
    }
   ],
   "source": [
    "def flatten(image):\n",
    "    from functools import reduce\n",
    "    nb_éléments = reduce(np.multiply, image.shape)\n",
    "    return image.reshape(nb_éléments, 1)\n",
    "flatten(image).shape"
   ]
  },
  {
   "cell_type": "markdown",
   "metadata": {},
   "source": [
    "### Loss and cost function\n",
    "<img width=500px src='https://wikimedia.org/api/rest_v1/media/math/render/svg/80f87a71d3a616a0939f5360cec24d702d2593a2'/>"
   ]
  },
  {
   "cell_type": "code",
   "execution_count": 14,
   "metadata": {
    "collapsed": true
   },
   "outputs": [],
   "source": [
    "def logloss(y_true, y_pred):\n",
    "    \"\"\"Retourne la fonction de perte pour un unique training example i\"\"\"\n",
    "    if y_true == 1:\n",
    "        return -np.log(y_pred)\n",
    "    else:\n",
    "        return -np.log(1 - y_pred)"
   ]
  },
  {
   "cell_type": "code",
   "execution_count": 81,
   "metadata": {},
   "outputs": [
    {
     "data": {
      "text/plain": [
       "0.18279203927330176"
      ]
     },
     "execution_count": 81,
     "metadata": {},
     "output_type": "execute_result"
    }
   ],
   "source": [
    "def cost_function(y_true_vector, y_pred_vector):\n",
    "    \"\"\"Version (non vectorisée) de la fonction de coût pour tous les exemples x1...xn\"\"\"\n",
    "    cost = 0\n",
    "    for i in range(len(y_true_vector)):\n",
    "        y_true, y_pred = y_true_vector[i], y_pred_vector[i]\n",
    "        cost += logloss(y_true, y_pred)\n",
    "    return cost / len(y_true_vector)\n",
    "y_true = [0,0,0,1,1,1]\n",
    "y_pred = [0.01,0.2,0.03,0.69,0.7,0.9]\n",
    "cost_function(y_true, y_pred)"
   ]
  },
  {
   "cell_type": "markdown",
   "metadata": {},
   "source": [
    "### Weights initialisation\n",
    "<img width=500px src='https://cdn-images-1.medium.com/max/800/1*-vY3G0W-4nJo-dQ1jm0p0w.png'/>"
   ]
  },
  {
   "cell_type": "code",
   "execution_count": 192,
   "metadata": {},
   "outputs": [
    {
     "data": {
      "text/plain": [
       "(array([[-3.79970711,  3.49070906,  0.99042474, -5.2720315 ],\n",
       "        [-2.02510088,  5.78002788, -8.49337735, -1.5011942 ],\n",
       "        [ 4.43077691, -3.03359141, -2.37610153, -0.33148139]]), array([[ 0.],\n",
       "        [ 0.],\n",
       "        [ 0.]]))"
      ]
     },
     "execution_count": 192,
     "metadata": {},
     "output_type": "execute_result"
    }
   ],
   "source": [
    "def initialize_weights(size_previous_layer, size_layer):\n",
    "    \"\"\"Retourne W et b initialisés\"\"\"\n",
    "    np.random.seed(123)\n",
    "    #return np.random.randn(size_layer, size_previous_layer) * np.sqrt(2/size_previous_layer), np.zeros(size_layer).reshape(size_layer, 1)\n",
    "    return np.random.normal(loc=0, scale=(size_previous_layer + size_layer) / 2, size=(size_layer, size_previous_layer)), np.zeros(size_layer).reshape(size_layer, 1)\n",
    "\n",
    "W, b = initialize_weights(4,3)\n",
    "W, b"
   ]
  },
  {
   "cell_type": "markdown",
   "metadata": {},
   "source": [
    "### Reproduction de l'architecture LeNet - 5"
   ]
  },
  {
   "cell_type": "code",
   "execution_count": 18,
   "metadata": {
    "collapsed": true
   },
   "outputs": [],
   "source": [
    "import pandas as pd\n",
    "import numpy as np\n",
    "import matplotlib.pyplot as plt\n",
    "%matplotlib inline\n",
    "import os"
   ]
  },
  {
   "cell_type": "code",
   "execution_count": 145,
   "metadata": {
    "scrolled": true
   },
   "outputs": [
    {
     "data": {
      "text/plain": [
       "(72, 14, 1)"
      ]
     },
     "execution_count": 145,
     "metadata": {},
     "output_type": "execute_result"
    }
   ],
   "source": [
    "#im = plt.imread('Partitions/bellaciao.png')[:, :, 0]\n",
    "path = ['Binaire/temp/311_1.png', 'Binaire/temp/259_0.png', 'Binaire/temp/308_1.png']\n",
    "y_true = np.array(list(map(int, path[-5])))\n",
    "im = plt.imread(path)[:, :, 0]\n",
    "im = im.reshape(im.shape[0], im.shape[1], 1)\n",
    "im.shape"
   ]
  },
  {
   "cell_type": "code",
   "execution_count": 149,
   "metadata": {},
   "outputs": [
    {
     "data": {
      "text/plain": [
       "array([1, 0, 1])"
      ]
     },
     "execution_count": 149,
     "metadata": {},
     "output_type": "execute_result"
    }
   ],
   "source": [
    "y_true\n",
    "path = ['Binaire/temp/311_1.png', 'Binaire/temp/259_0.png', 'Binaire/temp/308_1.png']\n",
    "y_true = np.array(list(map(lambda x : int(x[-5]), path)))\n"
   ]
  },
  {
   "cell_type": "code",
   "execution_count": 202,
   "metadata": {},
   "outputs": [],
   "source": [
    "# Filtres : \n",
    "fil1 = np.array([[1,1,1], [0,0,0], [-1,-1,-1]])\n",
    "fil2 = np.array([[1,0,-1], [1,0,-1], [1,0,-1]])\n",
    "fil3 = np.array([[-1,0,1], [-2,0,2], [-1,0,1]])\n",
    "fil4 = np.array([[-1,-2,-1], [0,0,0], [1,2,1]])\n",
    "fil5 = np.array([[3,0,-3], [10,0,-10], [3,0,-3]])\n",
    "liste_filtres = [fil1, fil2, fil3, fil4, fil5]\n",
    "learning_rate = 0.01\n",
    "cost = 0\n",
    "\n",
    "# Initialisation des paramètres :\n",
    "paths = ['Binaire/temp/311_1.png', 'Binaire/temp/259_0.png', 'Binaire/temp/308_1.png']\n",
    "W1, b1 = initialize_weights(160, 112)\n",
    "W2, b2 = initialize_weights(112, 1)\n",
    "\n",
    "for image in paths:\n",
    "    y_true = np.array(list(map(int, image[-5])))\n",
    "    im = plt.imread(image)[:, :, 0]\n",
    "    im = im.reshape(im.shape[0], im.shape[1], 1)\n",
    "    break\n",
    "    ### FORWARD PROPAGATION ###\n",
    "    # Conv-layer 1 :\n",
    "    print('Image initiale', im.shape)\n",
    "    im = convolution(image=im, liste_filtres=liste_filtres, padding=0, stride=1, bias=[0]*len(liste_filtres))\n",
    "    print('Image après Conv1', im.shape)\n",
    "    im = max_pooling(image=im, filtre_size=2, padding=0, stride=2)\n",
    "    \n",
    "    # Conv-layer 2\n",
    "    print('Image après Pool1', im.shape)\n",
    "    im = convolution(image=im, liste_filtres=liste_filtres, padding=0, stride=1, bias=[0]*len(liste_filtres))\n",
    "    print('Image après Conv2', im.shape)\n",
    "\n",
    "    im = max_pooling(image=im, filtre_size=2, padding=0, stride=2)\n",
    "    print('Image après Pool2', im.shape)\n",
    "    \n",
    "    # FC-layer 3\n",
    "    im = flatten(im)\n",
    "    print('Image après flatten', im.shape)\n",
    "    \n",
    "    z1 = W1 @ im + b1\n",
    "    a1 = ReLU(z1)\n",
    "    print('\\na1.shape =', a1.shape)\n",
    "\n",
    "    # FC-layer 4\n",
    "    z2 = W2 @ a1 + b2\n",
    "    print('z2 =', z2)\n",
    "    a2 = sigmoid(z2)\n",
    "    print('a2.shape =', a2.shape, 'a2 =', a2)\n",
    "\n",
    "    # Coût\n",
    "    cost = cost + logloss(y_true, a2) #cost_function(y_true, a2)\n",
    "    print('Cost epoch 1', cost)\n",
    "\n",
    "    ### BACK PROPAGATION ### \n",
    "    dz2 = a2 - y_true\n",
    "    dW2 = (a2 - y_true) @ a1.T\n",
    "\n",
    "    W2 = W2 - learning_rate*dW2\n",
    "    b2 = b2 - learning_rate*b2\n",
    "\n",
    "    da1 = W2.T @ dz2\n",
    "    dz1 = da1 * ReLU(da1, dérivée=True)\n",
    "\n",
    "    dW1 = dz1 @ im.T\n",
    "    db1 = dz1\n",
    "\n",
    "    W1 = W1 - learning_rate*dW1\n",
    "    b1 = b1 - learning_rate*b1\n",
    "#cost /= len(paths)"
   ]
  },
  {
   "cell_type": "code",
   "execution_count": 232,
   "metadata": {},
   "outputs": [
    {
     "data": {
      "text/plain": [
       "array([list([1, 2, 3]), list([4, 5, 6])], dtype=object)"
      ]
     },
     "execution_count": 232,
     "metadata": {},
     "output_type": "execute_result"
    }
   ],
   "source": [
    "df = pd.DataFrame({'Listes':[[1,2,3],[4,5,6]]})\n",
    "df.Listes.values#[:,0]"
   ]
  },
  {
   "cell_type": "code",
   "execution_count": 153,
   "metadata": {},
   "outputs": [
    {
     "data": {
      "text/plain": [
       "(array([1]), array([[ 0.00461016]]), array([ 5.37949324]), (1, 112))"
      ]
     },
     "execution_count": 153,
     "metadata": {},
     "output_type": "execute_result"
    }
   ],
   "source": [
    "y_true, a2, cost, W2.shape"
   ]
  },
  {
   "cell_type": "code",
   "execution_count": 138,
   "metadata": {},
   "outputs": [
    {
     "name": "stdout",
     "output_type": "stream",
     "text": [
      "a2, z2 : (1, 1) (1, 1)\n",
      "W2, b2 : (1, 112) (1, 1)\n",
      "a1, z1 : (112, 1) (112, 1)\n"
     ]
    }
   ],
   "source": [
    "#check dimensions\n",
    "print(\"a2, z2 :\", a2.shape, z2.shape)\n",
    "print(\"W2, b2 :\", W2.shape, b2.shape)\n",
    "print(\"a1, z1 :\", a1.shape, z1.shape)"
   ]
  },
  {
   "cell_type": "code",
   "execution_count": 425,
   "metadata": {
    "collapsed": true
   },
   "outputs": [],
   "source": [
    "plt.imsave('im1.png', im[:,:,0])\n",
    "plt.imsave('im2.png', im[:,:,1])"
   ]
  },
  {
   "cell_type": "markdown",
   "metadata": {
    "heading_collapsed": true
   },
   "source": [
    "# Annexes "
   ]
  },
  {
   "cell_type": "code",
   "execution_count": null,
   "metadata": {
    "collapsed": true,
    "hidden": true
   },
   "outputs": [],
   "source": [
    "# Simulation d'un filtre : \n",
    "fil = np.round(np.random.rand(3*3).reshape(3,3), 2)"
   ]
  },
  {
   "cell_type": "code",
   "execution_count": 401,
   "metadata": {
    "hidden": true
   },
   "outputs": [
    {
     "data": {
      "text/plain": [
       "array([[[ 91.],\n",
       "        [100.],\n",
       "        [ 88.]],\n",
       "\n",
       "       [[ 69.],\n",
       "        [ 91.],\n",
       "        [117.]],\n",
       "\n",
       "       [[ 44.],\n",
       "        [ 72.],\n",
       "        [ 74.]]])"
      ]
     },
     "execution_count": 401,
     "metadata": {},
     "output_type": "execute_result"
    }
   ],
   "source": [
    "#\"\"\"\n",
    "def convolution(image, filtre, padding=0, stride=1):\n",
    "    \n",
    "    resultat = np.zeros(get_size_result(image, filtre, padding, stride))\n",
    "    f = filtre.shape[0]\n",
    "    for j in np.arange(0, resultat.shape[1], 1):\n",
    "        for i in np.arange(0, resultat.shape[0], 1):\n",
    "            # Récupération de la position du top-left-corner\n",
    "            tlc = (int(i*stride-padding), int(j*stride))\n",
    "            # Récupération de la zone concernée dans l'image\n",
    "            zone = image[tlc[0]:tlc[0]+f, tlc[1]:tlc[1]+f]\n",
    "            resultat[i,j] = np.sum(zone * filtre)\n",
    "    return resultat\n",
    "\n",
    "#\"\"\"\n",
    "#None\n",
    "convolution(image, filtre, padding=0, stride=2)"
   ]
  },
  {
   "cell_type": "code",
   "execution_count": 350,
   "metadata": {
    "collapsed": true,
    "hidden": true
   },
   "outputs": [],
   "source": [
    "\"\"\"\n",
    "def max_pooling(image, filtre_size, padding=0, stride=1):\n",
    "    filtre_sim = np.zeros((filtre_size, filtre_size))\n",
    "    resultat = np.zeros(get_size_result(image, filtre_sim, padding, stride))\n",
    "    for j in np.arange(0, resultat.shape[1], 1):\n",
    "        for i in np.arange(0, resultat.shape[0], 1):\n",
    "            # Récupération de la position du top-left-corner\n",
    "            tlc = (int(i*stride-padding), int(j*stride))\n",
    "            # Récupération de la zone concernée dans l'image\n",
    "            zone = image[tlc[0]:tlc[0]+filtre_size, tlc[1]:tlc[1]+filtre_size]\n",
    "            resultat[i,j] = np.max(zone)\n",
    "    return resultat\n",
    "im = np.array([[1,3,2,1,3], [2,9,1,1,5], [1,3,2,3,2], [8,3,5,1,0], [5,6,1,2,9]])\n",
    "max_pooling(im, filtre_size=3, stride=1, padding=0)\n",
    "\"\"\"\n",
    "None"
   ]
  }
 ],
 "metadata": {
  "anaconda-cloud": {},
  "kernelspec": {
   "display_name": "Python 3",
   "language": "python",
   "name": "python3"
  },
  "language_info": {
   "codemirror_mode": {
    "name": "ipython",
    "version": 3
   },
   "file_extension": ".py",
   "mimetype": "text/x-python",
   "name": "python",
   "nbconvert_exporter": "python",
   "pygments_lexer": "ipython3",
   "version": "3.6.3"
  }
 },
 "nbformat": 4,
 "nbformat_minor": 2
}
