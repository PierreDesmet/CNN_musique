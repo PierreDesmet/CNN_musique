{
 "cells": [
  {
   "cell_type": "markdown",
   "metadata": {},
   "source": [
    "# 4 - Prédiction sur de nouvelles partitions\n",
    "...À partir d'une nouvelle partition test, jamais vue par le modèle."
   ]
  },
  {
   "cell_type": "code",
   "execution_count": 1,
   "metadata": {},
   "outputs": [
    {
     "name": "stderr",
     "output_type": "stream",
     "text": [
      "/anaconda3/lib/python3.6/site-packages/h5py/__init__.py:36: FutureWarning: Conversion of the second argument of issubdtype from `float` to `np.floating` is deprecated. In future, it will be treated as `np.float64 == np.dtype(float).type`.\n",
      "  from ._conv import register_converters as _register_converters\n",
      "Using TensorFlow backend.\n"
     ]
    }
   ],
   "source": [
    "import sys\n",
    "#sys.path.append('E://Users//B011LDG//AppData//Local//Continuum//anaconda3//Lib//site-packages')\n",
    "from keras.models import load_model\n",
    "import glob\n",
    "from sklearn.externals import joblib\n",
    "from preprocessing import *\n",
    "LARG, LONG = 14, 72"
   ]
  },
  {
   "cell_type": "code",
   "execution_count": 13,
   "metadata": {},
   "outputs": [
    {
     "name": "stdout",
     "output_type": "stream",
     "text": [
      "(140, 1586, 3)\n",
      "L'image fait désormais 140 pixels de large sur 1586 de long.\n",
      "Une note de la partition prend en moyenne 15 pixels de large sur 46.5 pixels de haut.\n"
     ]
    },
    {
     "name": "stderr",
     "output_type": "stream",
     "text": [
      "/anaconda3/lib/python3.6/site-packages/skimage/transform/_warps.py:84: UserWarning: The default mode, 'constant', will be changed to 'reflect' in skimage 0.15.\n",
      "  warn(\"The default mode, 'constant', will be changed to 'reflect' in \"\n"
     ]
    },
    {
     "data": {
      "image/png": "[encoded data removed]",
      "text/plain": [
       "<Figure size 1800x288 with 1 Axes>"
      ]
     },
     "metadata": {},
     "output_type": "display_data"
    }
   ],
   "source": [
    "# Preprocessing de découpage de l'image de partition en plein de sous-images de tailles égales\n",
    "\n",
    "import numpy as np ; np.random.seed(123)\n",
    "import matplotlib.image as mpimg\n",
    "import matplotlib.pyplot as plt\n",
    "from matplotlib import patches\n",
    "import pandas as pd\n",
    "from skimage.transform import resize\n",
    "\n",
    "img = mpimg.imread(\"Partitions/bellaciao.png\")[:,:,:3]\n",
    "#img = mpimg.imread(\"Partitions/Traitees/g_du_tabac.png\")[:,:,:3]\n",
    "print(img.shape)\n",
    "\n",
    "\n",
    "## Conversion en noir et blanc ##\n",
    "if len(img.shape) > 2:\n",
    "    img_noir_blanc = list(map(lambda x : [z>0.8 for y in x for z in y], img))\n",
    "    img_noir_blanc = np.array(img_noir_blanc).reshape((img.shape[0], img.shape[1], 3))\n",
    "    img_noir_blanc = np.array([[y[0] for y in x] for x in img_noir_blanc]).reshape((img.shape[0], img.shape[1]))\n",
    "else :\n",
    "    img_noir_blanc = img\n",
    "print(\"L'image fait désormais\", img_noir_blanc.shape[0], \"pixels de large sur\", img_noir_blanc.shape[1], \"de long.\")\n",
    "\n",
    "\n",
    "## Détection des 5 lignes de la portée ##\n",
    "for seuil, épaisseur_portée in [(0.1, 1), (0.45, 2), (0.66, 3)]:\n",
    "    abscisses = []\n",
    "    for i in np.arange(0, img_noir_blanc.shape[0], épaisseur_portée):\n",
    "        if np.sum(img_noir_blanc[i,:]) < seuil*img_noir_blanc.shape[1]:\n",
    "            abscisses.append(i)\n",
    "    if len(abscisses) %5 == 0 : break\n",
    "        \n",
    "Abscisses = pd.DataFrame(abscisses, columns=['abscisses'])\n",
    "Abscisses['abscisses_shifted'] = Abscisses.abscisses.shift(1)\n",
    "Abscisses['diff'] = Abscisses.abscisses - Abscisses.abscisses_shifted\n",
    "Abscisses = Abscisses[~(Abscisses['diff'] < 4)]\n",
    "abscisses = list(Abscisses.abscisses)\n",
    "\n",
    "\n",
    "## Calcul de l'épaisseur d'une note unique ##\n",
    "def get_taille_note(abscisses):\n",
    "    diff = 0\n",
    "    for i in range(len(abscisses)-1):\n",
    "        diff += abscisses[i+1]-abscisses[i]\n",
    "    largeur_note = int(diff / (len(abscisses)-1))\n",
    "    hauteur_note = (max(abscisses) - min(abscisses))*(3/4) # une note = 3/4 de portée\n",
    "    return largeur_note, hauteur_note\n",
    "\n",
    "largeur_note, hauteur_note = get_taille_note(abscisses)\n",
    "a = min(abscisses)-largeur_note\n",
    "b = max(abscisses)+largeur_note\n",
    "print('Une note de la partition prend en moyenne', largeur_note, 'pixels de large sur', hauteur_note, 'pixels de haut.')\n",
    "\n",
    "\n",
    "fig, ax = plt.subplots(figsize=(25,4))\n",
    "ax.imshow(img_noir_blanc)\n",
    "for i in np.arange(0, img_noir_blanc.shape[1], LARG):\n",
    "    rect = patches.Rectangle((i,a), LARG, b-a, linewidth=1, edgecolor='r', facecolor='none')\n",
    "    ax.add_patch(rect)\n",
    "    plt.imsave('Datasets/Test/'+str(i//LARG)+'.png', resize(img_noir_blanc[a:b, i:i+LARG], (LONG, LARG)))\n",
    "plt.show()"
   ]
  },
  {
   "cell_type": "code",
   "execution_count": 14,
   "metadata": {},
   "outputs": [],
   "source": [
    "# Chargement des modèles entraînés dans les notebooks précédents\n",
    "model = load_model('Modeles/model.h5')\n",
    "rf = joblib.load('Modeles/random_forest.pkl')"
   ]
  },
  {
   "cell_type": "code",
   "execution_count": 15,
   "metadata": {},
   "outputs": [],
   "source": [
    "# Confrontation des prédictions des deux modèles\n",
    "EMPECHE_PRED_0 = True # on force le RF à fournir une note, même s'il pense qu'il n'y en a pas.\n",
    "test = pd.DataFrame(columns=['Pred(image=1)', 'P(image=1)', 'Pred(image=note)', 'P(image=note)'])\n",
    "for im in tri_images('Datasets/Test/*.png'):\n",
    "    image = plt.imread(im)[:,:,0].reshape(1, LONG, LARG, 1)\n",
    "    \n",
    "    prédiction_binaire = model.predict_classes(image)[0][0]\n",
    "    proba_binaire      = model.predict_proba(image)[0][0]\n",
    "    \n",
    "    prédiction_note    = rf.predict(image.reshape(1, LARG*LONG))[0]\n",
    "    proba_note         = np.max(rf.predict_proba(image.reshape(1, LARG*LONG))[0])\n",
    "    \n",
    "    if EMPECHE_PRED_0:\n",
    "        distribution = dict(zip(rf.classes_, rf.predict_proba(image.reshape(1, LARG*LONG))[0]))\n",
    "        del distribution['0']\n",
    "        prédiction_note = sorted(distribution, key=lambda x : distribution[x])[-1]\n",
    "        proba_note = max(distribution.values())\n",
    "        \n",
    "    test = test.append({'Pred(image=1)'    : prédiction_binaire, \n",
    "                        'P(image=1)'       : proba_binaire, \n",
    "                        'Pred(image=note)' : prédiction_note,\n",
    "                        'P(image=note)'    : proba_note, \n",
    "                        'image'            : image}, ignore_index=True)"
   ]
  },
  {
   "cell_type": "code",
   "execution_count": 16,
   "metadata": {
    "scrolled": true
   },
   "outputs": [
    {
     "data": {
      "text/html": [
       "<div>\n",
       "<style scoped>\n",
       "    .dataframe tbody tr th:only-of-type {\n",
       "        vertical-align: middle;\n",
       "    }\n",
       "\n",
       "    .dataframe tbody tr th {\n",
       "        vertical-align: top;\n",
       "    }\n",
       "\n",
       "    .dataframe thead th {\n",
       "        text-align: right;\n",
       "    }\n",
       "</style>\n",
       "<table border=\"1\" class=\"dataframe\">\n",
       "  <thead>\n",
       "    <tr style=\"text-align: right;\">\n",
       "      <th></th>\n",
       "      <th>Pred(image=1)</th>\n",
       "      <th>P(image=1)</th>\n",
       "      <th>Pred(image=note)</th>\n",
       "      <th>P(image=note)</th>\n",
       "      <th>image</th>\n",
       "    </tr>\n",
       "  </thead>\n",
       "  <tbody>\n",
       "    <tr>\n",
       "      <th>10</th>\n",
       "      <td>0</td>\n",
       "      <td>0.000003</td>\n",
       "      <td>Sol_aigu_stretched</td>\n",
       "      <td>0.000</td>\n",
       "      <td>[[[[0.99215686], [0.99215686], [0.99215686], [...</td>\n",
       "    </tr>\n",
       "    <tr>\n",
       "      <th>11</th>\n",
       "      <td>0</td>\n",
       "      <td>0.000003</td>\n",
       "      <td>Sol_aigu_stretched</td>\n",
       "      <td>0.000</td>\n",
       "      <td>[[[[0.99215686], [0.99215686], [0.99215686], [...</td>\n",
       "    </tr>\n",
       "    <tr>\n",
       "      <th>12</th>\n",
       "      <td>1</td>\n",
       "      <td>0.993471</td>\n",
       "      <td>Mi</td>\n",
       "      <td>0.885</td>\n",
       "      <td>[[[[0.99215686], [0.99215686], [0.99215686], [...</td>\n",
       "    </tr>\n",
       "    <tr>\n",
       "      <th>13</th>\n",
       "      <td>1</td>\n",
       "      <td>0.999995</td>\n",
       "      <td>Mi</td>\n",
       "      <td>0.840</td>\n",
       "      <td>[[[[0.99215686], [0.99215686], [0.99215686], [...</td>\n",
       "    </tr>\n",
       "    <tr>\n",
       "      <th>14</th>\n",
       "      <td>0</td>\n",
       "      <td>0.218000</td>\n",
       "      <td>Do_aigu</td>\n",
       "      <td>0.060</td>\n",
       "      <td>[[[[0.99215686], [0.99215686], [0.99215686], [...</td>\n",
       "    </tr>\n",
       "  </tbody>\n",
       "</table>\n",
       "</div>"
      ],
      "text/plain": [
       "   Pred(image=1)  P(image=1)    Pred(image=note)  P(image=note)  \\\n",
       "10             0    0.000003  Sol_aigu_stretched          0.000   \n",
       "11             0    0.000003  Sol_aigu_stretched          0.000   \n",
       "12             1    0.993471                  Mi          0.885   \n",
       "13             1    0.999995                  Mi          0.840   \n",
       "14             0    0.218000             Do_aigu          0.060   \n",
       "\n",
       "                                                image  \n",
       "10  [[[[0.99215686], [0.99215686], [0.99215686], [...  \n",
       "11  [[[[0.99215686], [0.99215686], [0.99215686], [...  \n",
       "12  [[[[0.99215686], [0.99215686], [0.99215686], [...  \n",
       "13  [[[[0.99215686], [0.99215686], [0.99215686], [...  \n",
       "14  [[[[0.99215686], [0.99215686], [0.99215686], [...  "
      ]
     },
     "execution_count": 16,
     "metadata": {},
     "output_type": "execute_result"
    }
   ],
   "source": [
    "test[10:15]"
   ]
  },
  {
   "cell_type": "code",
   "execution_count": 17,
   "metadata": {},
   "outputs": [
    {
     "data": {
      "image/png": "[encoded data removed]",
      "text/plain": [
       "<Figure size 432x288 with 1 Axes>"
      ]
     },
     "metadata": {},
     "output_type": "display_data"
    }
   ],
   "source": [
    "test['P(image=1)'].hist() ; plt.grid(False)\n",
    "plt.title(\"Distribution des probabilités prédites\")  ; "
   ]
  },
  {
   "cell_type": "markdown",
   "metadata": {},
   "source": [
    "**Un modèle pour valider les performances de l'autres.**\n",
    "Les deux modèles font parfois des prédictions contradictoires : on conserve dans ce cas la prédiction du modèle qui a le plus confiance en lui. \n",
    "\n",
    "Par exemple : sur une image donnée, le modèle 1 (CNN binaire) a prédit la présence d'une note, mais le modèle 2 (RF multiclasse) a prédit le contraire. On considèrera qu'il n'y a pas de note sur l'image si la probabilité du modèle 2 est supérieure à celle du modèle 1. "
   ]
  },
  {
   "cell_type": "code",
   "execution_count": 18,
   "metadata": {},
   "outputs": [
    {
     "name": "stdout",
     "output_type": "stream",
     "text": [
      "0 contradictions sur 114 photos.\n"
     ]
    }
   ],
   "source": [
    "contradiction = (test['Pred(image=1)']==1) & (test['Pred(image=note)']=='0')\n",
    "print(f\"{contradiction.sum()} contradictions sur {len(contradiction)} photos.\")\n",
    "test.loc[contradiction & (test['P(image=note)'] > test['P(image=1)']), 'Pred(image=1)'] = 0"
   ]
  },
  {
   "cell_type": "markdown",
   "metadata": {},
   "source": [
    "Retrait des notes détectées deux fois : quand deux images consécutives ont donné lieu à deux prédictions positives et similaires, c'est qu'il s'agit en fait de la même note qui a été détectée deux fois. On ne garde donc que la première.\n",
    "\n",
    "<img width=230px src='doublons.png'/>"
   ]
  },
  {
   "cell_type": "code",
   "execution_count": 19,
   "metadata": {},
   "outputs": [],
   "source": [
    "pred_image_shift = test['Pred(image=1)'].shift(1)\n",
    "test.loc[(test['Pred(image=1)'] == pred_image_shift) & (test['Pred(image=1)'] == 1), 'Pred(image=1)'] = 0"
   ]
  },
  {
   "cell_type": "code",
   "execution_count": 20,
   "metadata": {},
   "outputs": [],
   "source": [
    "test_positif = test[test['Pred(image=1)']==1].copy()\n",
    "test_positif = test_positif[test_positif['Pred(image=note)']!='0']"
   ]
  },
  {
   "cell_type": "code",
   "execution_count": 21,
   "metadata": {},
   "outputs": [
    {
     "data": {
      "text/html": [
       "<div>\n",
       "<style scoped>\n",
       "    .dataframe tbody tr th:only-of-type {\n",
       "        vertical-align: middle;\n",
       "    }\n",
       "\n",
       "    .dataframe tbody tr th {\n",
       "        vertical-align: top;\n",
       "    }\n",
       "\n",
       "    .dataframe thead th {\n",
       "        text-align: right;\n",
       "    }\n",
       "</style>\n",
       "<table border=\"1\" class=\"dataframe\">\n",
       "  <thead>\n",
       "    <tr style=\"text-align: right;\">\n",
       "      <th></th>\n",
       "      <th>Pred(image=1)</th>\n",
       "      <th>P(image=1)</th>\n",
       "      <th>Pred(image=note)</th>\n",
       "      <th>P(image=note)</th>\n",
       "      <th>image</th>\n",
       "    </tr>\n",
       "  </thead>\n",
       "  <tbody>\n",
       "    <tr>\n",
       "      <th>12</th>\n",
       "      <td>1</td>\n",
       "      <td>0.993471</td>\n",
       "      <td>Mi</td>\n",
       "      <td>0.885</td>\n",
       "      <td>[[[[0.99215686], [0.99215686], [0.99215686], [...</td>\n",
       "    </tr>\n",
       "    <tr>\n",
       "      <th>16</th>\n",
       "      <td>1</td>\n",
       "      <td>0.993282</td>\n",
       "      <td>La</td>\n",
       "      <td>0.955</td>\n",
       "      <td>[[[[0.99215686], [0.99215686], [0.99215686], [...</td>\n",
       "    </tr>\n",
       "    <tr>\n",
       "      <th>20</th>\n",
       "      <td>1</td>\n",
       "      <td>0.977360</td>\n",
       "      <td>Si</td>\n",
       "      <td>0.805</td>\n",
       "      <td>[[[[0.26666668], [0.26666668], [0.26666668], [...</td>\n",
       "    </tr>\n",
       "    <tr>\n",
       "      <th>26</th>\n",
       "      <td>1</td>\n",
       "      <td>0.989192</td>\n",
       "      <td>Do_aigu</td>\n",
       "      <td>0.985</td>\n",
       "      <td>[[[[0.99215686], [0.99215686], [0.99215686], [...</td>\n",
       "    </tr>\n",
       "    <tr>\n",
       "      <th>30</th>\n",
       "      <td>1</td>\n",
       "      <td>0.987792</td>\n",
       "      <td>La</td>\n",
       "      <td>1.000</td>\n",
       "      <td>[[[[0.99215686], [0.99215686], [0.99215686], [...</td>\n",
       "    </tr>\n",
       "    <tr>\n",
       "      <th>43</th>\n",
       "      <td>1</td>\n",
       "      <td>0.985990</td>\n",
       "      <td>Mi</td>\n",
       "      <td>0.940</td>\n",
       "      <td>[[[[0.99215686], [0.99215686], [0.99215686], [...</td>\n",
       "    </tr>\n",
       "    <tr>\n",
       "      <th>47</th>\n",
       "      <td>1</td>\n",
       "      <td>0.985748</td>\n",
       "      <td>La</td>\n",
       "      <td>0.985</td>\n",
       "      <td>[[[[0.99215686], [0.99215686], [0.99215686], [...</td>\n",
       "    </tr>\n",
       "    <tr>\n",
       "      <th>51</th>\n",
       "      <td>1</td>\n",
       "      <td>0.972537</td>\n",
       "      <td>Si</td>\n",
       "      <td>0.945</td>\n",
       "      <td>[[[[0.26666668], [0.26666668], [0.26666668], [...</td>\n",
       "    </tr>\n",
       "    <tr>\n",
       "      <th>57</th>\n",
       "      <td>1</td>\n",
       "      <td>0.984113</td>\n",
       "      <td>Do_aigu</td>\n",
       "      <td>0.990</td>\n",
       "      <td>[[[[0.99215686], [0.99215686], [0.99215686], [...</td>\n",
       "    </tr>\n",
       "    <tr>\n",
       "      <th>60</th>\n",
       "      <td>1</td>\n",
       "      <td>0.989926</td>\n",
       "      <td>La</td>\n",
       "      <td>0.715</td>\n",
       "      <td>[[[[0.99215686], [0.99215686], [0.99215686], [...</td>\n",
       "    </tr>\n",
       "    <tr>\n",
       "      <th>74</th>\n",
       "      <td>1</td>\n",
       "      <td>0.968539</td>\n",
       "      <td>Mi</td>\n",
       "      <td>0.960</td>\n",
       "      <td>[[[[0.99215686], [0.99215686], [0.99215686], [...</td>\n",
       "    </tr>\n",
       "    <tr>\n",
       "      <th>78</th>\n",
       "      <td>1</td>\n",
       "      <td>0.986941</td>\n",
       "      <td>La</td>\n",
       "      <td>0.990</td>\n",
       "      <td>[[[[0.99215686], [0.99215686], [0.99215686], [...</td>\n",
       "    </tr>\n",
       "    <tr>\n",
       "      <th>82</th>\n",
       "      <td>1</td>\n",
       "      <td>0.995839</td>\n",
       "      <td>Si</td>\n",
       "      <td>0.990</td>\n",
       "      <td>[[[[0.26666668], [0.26666668], [0.26666668], [...</td>\n",
       "    </tr>\n",
       "    <tr>\n",
       "      <th>87</th>\n",
       "      <td>1</td>\n",
       "      <td>0.972691</td>\n",
       "      <td>Do_aigu</td>\n",
       "      <td>0.795</td>\n",
       "      <td>[[[[0.99215686], [0.99215686], [0.99215686], [...</td>\n",
       "    </tr>\n",
       "    <tr>\n",
       "      <th>93</th>\n",
       "      <td>1</td>\n",
       "      <td>0.997765</td>\n",
       "      <td>Si</td>\n",
       "      <td>0.965</td>\n",
       "      <td>[[[[0.99215686], [0.99215686], [0.99215686], [...</td>\n",
       "    </tr>\n",
       "    <tr>\n",
       "      <th>97</th>\n",
       "      <td>1</td>\n",
       "      <td>0.999081</td>\n",
       "      <td>La</td>\n",
       "      <td>1.000</td>\n",
       "      <td>[[[[0.26666668], [0.26666668], [0.26666668], [...</td>\n",
       "    </tr>\n",
       "    <tr>\n",
       "      <th>101</th>\n",
       "      <td>1</td>\n",
       "      <td>0.969479</td>\n",
       "      <td>Do_aigu</td>\n",
       "      <td>0.955</td>\n",
       "      <td>[[[[0.99215686], [0.99215686], [0.99215686], [...</td>\n",
       "    </tr>\n",
       "    <tr>\n",
       "      <th>106</th>\n",
       "      <td>1</td>\n",
       "      <td>0.988017</td>\n",
       "      <td>Sol</td>\n",
       "      <td>0.610</td>\n",
       "      <td>[[[[0.99215686], [0.99215686], [0.99215686], [...</td>\n",
       "    </tr>\n",
       "    <tr>\n",
       "      <th>110</th>\n",
       "      <td>1</td>\n",
       "      <td>0.997808</td>\n",
       "      <td>La</td>\n",
       "      <td>0.980</td>\n",
       "      <td>[[[[0.26666668], [0.26666668], [0.26666668], [...</td>\n",
       "    </tr>\n",
       "  </tbody>\n",
       "</table>\n",
       "</div>"
      ],
      "text/plain": [
       "     Pred(image=1)  P(image=1) Pred(image=note)  P(image=note)  \\\n",
       "12               1    0.993471               Mi          0.885   \n",
       "16               1    0.993282               La          0.955   \n",
       "20               1    0.977360               Si          0.805   \n",
       "26               1    0.989192          Do_aigu          0.985   \n",
       "30               1    0.987792               La          1.000   \n",
       "43               1    0.985990               Mi          0.940   \n",
       "47               1    0.985748               La          0.985   \n",
       "51               1    0.972537               Si          0.945   \n",
       "57               1    0.984113          Do_aigu          0.990   \n",
       "60               1    0.989926               La          0.715   \n",
       "74               1    0.968539               Mi          0.960   \n",
       "78               1    0.986941               La          0.990   \n",
       "82               1    0.995839               Si          0.990   \n",
       "87               1    0.972691          Do_aigu          0.795   \n",
       "93               1    0.997765               Si          0.965   \n",
       "97               1    0.999081               La          1.000   \n",
       "101              1    0.969479          Do_aigu          0.955   \n",
       "106              1    0.988017              Sol          0.610   \n",
       "110              1    0.997808               La          0.980   \n",
       "\n",
       "                                                 image  \n",
       "12   [[[[0.99215686], [0.99215686], [0.99215686], [...  \n",
       "16   [[[[0.99215686], [0.99215686], [0.99215686], [...  \n",
       "20   [[[[0.26666668], [0.26666668], [0.26666668], [...  \n",
       "26   [[[[0.99215686], [0.99215686], [0.99215686], [...  \n",
       "30   [[[[0.99215686], [0.99215686], [0.99215686], [...  \n",
       "43   [[[[0.99215686], [0.99215686], [0.99215686], [...  \n",
       "47   [[[[0.99215686], [0.99215686], [0.99215686], [...  \n",
       "51   [[[[0.26666668], [0.26666668], [0.26666668], [...  \n",
       "57   [[[[0.99215686], [0.99215686], [0.99215686], [...  \n",
       "60   [[[[0.99215686], [0.99215686], [0.99215686], [...  \n",
       "74   [[[[0.99215686], [0.99215686], [0.99215686], [...  \n",
       "78   [[[[0.99215686], [0.99215686], [0.99215686], [...  \n",
       "82   [[[[0.26666668], [0.26666668], [0.26666668], [...  \n",
       "87   [[[[0.99215686], [0.99215686], [0.99215686], [...  \n",
       "93   [[[[0.99215686], [0.99215686], [0.99215686], [...  \n",
       "97   [[[[0.26666668], [0.26666668], [0.26666668], [...  \n",
       "101  [[[[0.99215686], [0.99215686], [0.99215686], [...  \n",
       "106  [[[[0.99215686], [0.99215686], [0.99215686], [...  \n",
       "110  [[[[0.26666668], [0.26666668], [0.26666668], [...  "
      ]
     },
     "execution_count": 21,
     "metadata": {},
     "output_type": "execute_result"
    }
   ],
   "source": [
    "test_positif"
   ]
  },
  {
   "cell_type": "code",
   "execution_count": 22,
   "metadata": {},
   "outputs": [
    {
     "data": {
      "text/plain": [
       "['Mi',\n",
       " 'La',\n",
       " 'Si',\n",
       " 'Do_aigu',\n",
       " 'La',\n",
       " 'Mi',\n",
       " 'La',\n",
       " 'Si',\n",
       " 'Do_aigu',\n",
       " 'La',\n",
       " 'Mi',\n",
       " 'La',\n",
       " 'Si',\n",
       " 'Do_aigu',\n",
       " 'Si',\n",
       " 'La',\n",
       " 'Do_aigu',\n",
       " 'Sol',\n",
       " 'La']"
      ]
     },
     "execution_count": 22,
     "metadata": {},
     "output_type": "execute_result"
    }
   ],
   "source": [
    "prédiction_finale = test_positif['Pred(image=note)'].values.tolist()\n",
    "prédiction_finale"
   ]
  },
  {
   "cell_type": "code",
   "execution_count": 23,
   "metadata": {},
   "outputs": [],
   "source": [
    "import pickle \n",
    "pickle.dump(prédiction_finale, open('predictions.p','wb'))"
   ]
  }
 ],
 "metadata": {
  "anaconda-cloud": {},
  "kernelspec": {
   "display_name": "Python 3",
   "language": "python",
   "name": "python3"
  },
  "language_info": {
   "codemirror_mode": {
    "name": "ipython",
    "version": 3
   },
   "file_extension": ".py",
   "mimetype": "text/x-python",
   "name": "python",
   "nbconvert_exporter": "python",
   "pygments_lexer": "ipython3",
   "version": "3.6.5"
  }
 },
 "nbformat": 4,
 "nbformat_minor": 2
}
